{
 "cells": [
  {
   "cell_type": "code",
   "execution_count": 1,
   "metadata": {},
   "outputs": [
    {
     "data": {
      "text/plain": [
       "True"
      ]
     },
     "execution_count": 1,
     "metadata": {},
     "output_type": "execute_result"
    }
   ],
   "source": [
    "from dotenv import load_dotenv\n",
    "\n",
    "load_dotenv()"
   ]
  },
  {
   "cell_type": "code",
   "execution_count": null,
   "metadata": {},
   "outputs": [],
   "source": [
    "import os\n",
    "import google.generativeai as genai"
   ]
  },
  {
   "cell_type": "code",
   "execution_count": 5,
   "metadata": {},
   "outputs": [],
   "source": [
    "genai.configure(api_key=os.getenv(\"GOOGLE_API_KEY\"))"
   ]
  },
  {
   "cell_type": "code",
   "execution_count": 30,
   "metadata": {},
   "outputs": [],
   "source": [
    "model=genai.GenerativeModel(\"gemini-1.5-flash\")"
   ]
  },
  {
   "cell_type": "code",
   "execution_count": 7,
   "metadata": {},
   "outputs": [],
   "source": [
    "def input_image_setup(uploaded_file):\n",
    "    # Check if a file has been uploaded\n",
    "    if uploaded_file is not None:\n",
    "        # Read the file into bytes\n",
    "        bytes_data = uploaded_file.getvalue()\n",
    "\n",
    "        image_parts = [\n",
    "            {\n",
    "                \"mime_type\": uploaded_file.type,  # Get the mime type of the uploaded file\n",
    "                \"data\": bytes_data\n",
    "            }\n",
    "        ]\n",
    "        return image_parts\n",
    "    else:\n",
    "        raise FileNotFoundError(\"No file uploaded\")"
   ]
  },
  {
   "cell_type": "code",
   "execution_count": 13,
   "metadata": {},
   "outputs": [],
   "source": [
    "input_prompt=\"\"\"\n",
    "You are an expert in nutritionist where you need to see the food items from the image\n",
    "               and calculate the total calories, also provide the details of every food items with calories intake\n",
    "               is below format\n",
    "\n",
    "               1. Item 1 - no of calories\n",
    "               2. Item 2 - no of calories\n",
    "               ----\n",
    "               ----\n",
    "\n",
    "\n",
    "\"\"\""
   ]
  },
  {
   "cell_type": "code",
   "execution_count": 8,
   "metadata": {},
   "outputs": [],
   "source": [
    "from PIL import Image"
   ]
  },
  {
   "cell_type": "code",
   "execution_count": 23,
   "metadata": {},
   "outputs": [],
   "source": [
    "image = Image.open(r\"C:\\Users\\Saksh\\OneDrive\\Desktop\\test image.png\")"
   ]
  },
  {
   "cell_type": "code",
   "execution_count": 36,
   "metadata": {},
   "outputs": [],
   "source": [
    "response = model.generate_content([image, input_prompt])"
   ]
  },
  {
   "cell_type": "code",
   "execution_count": 37,
   "metadata": {},
   "outputs": [
    {
     "data": {
      "text/plain": [
       "response:\n",
       "GenerateContentResponse(\n",
       "    done=True,\n",
       "    iterator=None,\n",
       "    result=protos.GenerateContentResponse({\n",
       "      \"candidates\": [\n",
       "        {\n",
       "          \"content\": {\n",
       "            \"parts\": [\n",
       "              {\n",
       "                \"text\": \"That's a delicious-looking plate of Chana Masala (chickpea curry) and Puri (fried bread)!  However, I can't precisely calculate the calorie count from just an image.  Portion sizes significantly affect the calorie content.  Also, the recipe variations for Chana Masala and Puri influence the final calorie numbers.\\n\\n\\nTo give you a *reasonable estimate*, I'll provide calorie ranges based on typical serving sizes and common preparation methods.  Keep in mind that these are approximations:\\n\\n\\n1. **Chana Masala (Chickpea Curry):** 300-400 calories (per serving). This range depends on the amount of oil used in cooking, the inclusion of any added cream or butter, and the size of the serving. A smaller portion will have fewer calories.\\n\\n2. **Puri (Fried Bread):** 150-250 calories (per puri). The calorie count here greatly depends on the size of the puri and the amount of oil absorbed during frying. Larger puris and those fried in more oil will be higher in calories.  The image shows two puris.\\n\\n3. **Onion and Lime:**  Negligible calories.  The small amount of onion and lime adds minimal calories to the overall meal.\\n\\n\\n**Total Estimated Calories:**\\n\\n\\nConsidering the above ranges, a reasonable estimate of the total calories in the pictured meal would be **650-900 calories**.  This is a broad range. To get a more precise calorie count, you would need the specific recipe used, including ingredient quantities, and the exact weights of the cooked food.\\n\\n\\n**Important Considerations:**\\n\\n* **Oil:** The amount of oil used in frying the puri and cooking the chana masala significantly impacts the total calorie count.\\n\\n* **Serving size:** The portions in the picture appear moderate, but the exact weight is unknown.\\n\\n* **Ingredients:** Variations in recipe ingredients can impact calorie content. For instance, adding coconut milk or cream to the Chana Masala significantly raises the calorie count.\\n\\nIf you're concerned about your calorie intake, it's recommended to use a food scale and nutrition tracking app to log your meals for more accurate tracking.\\n\"\n",
       "              }\n",
       "            ],\n",
       "            \"role\": \"model\"\n",
       "          },\n",
       "          \"finish_reason\": \"STOP\",\n",
       "          \"avg_logprobs\": -0.4911261664496528\n",
       "        }\n",
       "      ],\n",
       "      \"usage_metadata\": {\n",
       "        \"prompt_token_count\": 330,\n",
       "        \"candidates_token_count\": 450,\n",
       "        \"total_token_count\": 780\n",
       "      },\n",
       "      \"model_version\": \"gemini-1.5-flash\"\n",
       "    }),\n",
       ")"
      ]
     },
     "execution_count": 37,
     "metadata": {},
     "output_type": "execute_result"
    }
   ],
   "source": [
    "response"
   ]
  },
  {
   "cell_type": "code",
   "execution_count": null,
   "metadata": {},
   "outputs": [],
   "source": []
  }
 ],
 "metadata": {
  "kernelspec": {
   "display_name": ".venv",
   "language": "python",
   "name": "python3"
  },
  "language_info": {
   "codemirror_mode": {
    "name": "ipython",
    "version": 3
   },
   "file_extension": ".py",
   "mimetype": "text/x-python",
   "name": "python",
   "nbconvert_exporter": "python",
   "pygments_lexer": "ipython3",
   "version": "3.13.2"
  }
 },
 "nbformat": 4,
 "nbformat_minor": 2
}
